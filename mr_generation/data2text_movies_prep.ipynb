{
  "nbformat": 4,
  "nbformat_minor": 0,
  "metadata": {
    "colab": {
      "provenance": [],
      "toc_visible": true
    },
    "kernelspec": {
      "name": "python3",
      "display_name": "Python 3"
    },
    "language_info": {
      "name": "python"
    }
  },
  "cells": [
    {
      "cell_type": "code",
      "source": [
        "import re\n",
        "import pandas as pd"
      ],
      "metadata": {
        "id": "8hFveCGZzGLo"
      },
      "execution_count": null,
      "outputs": []
    },
    {
      "cell_type": "code",
      "source": [
        "reformatted_MRs = []\n",
        "das = []\n",
        "domain = \"tv actor\"\n",
        "with open(\"/content/tv_actors_mrs_new.txt\", \"r\") as infile:\n",
        "  for index, line in enumerate(infile):\n",
        "    pattern = r\"(\\w+)\\[(.*?)\\]\"\n",
        "\n",
        "    da_pattern = r'^(\\w+)\\('\n",
        "    da_match = re.match(da_pattern, line)\n",
        "\n",
        "    # Extract attributes and their values from the input string\n",
        "    matches = re.findall(pattern, line)\n",
        "\n",
        "    # Initialize an empty dictionary to store attribute-value pairs\n",
        "    attribute_dict = {}\n",
        "\n",
        "    # Loop through the matches and store the attribute-value pairs in the dictionary\n",
        "    for match in matches:\n",
        "        attribute = match[0]\n",
        "        value = match[1].replace(\"{\", \"\").replace(\"}\", \"\").replace(\"'\", \"\")\n",
        "        attribute_dict[attribute] = value\n",
        "\n",
        "    das.append(da_match.group(1))\n",
        "    output_str = f\"{da_match.group(1)} = yes | \"\n",
        "    for attribute, value in attribute_dict.items():\n",
        "      output_str += f\"{attribute} = {value} | \"\n",
        "\n",
        "    output_str += f\"domain = {domain}\"\n",
        "\n",
        "    # Remove the trailing \"|\" and print the output string\n",
        "    output_str = output_str.rstrip(\" | \")\n",
        "\n",
        "    reformatted_MRs.append(output_str)"
      ],
      "metadata": {
        "id": "QMFmMzgRrrnR"
      },
      "execution_count": null,
      "outputs": []
    },
    {
      "cell_type": "code",
      "source": [
        "len(reformatted_MRs)"
      ],
      "metadata": {
        "colab": {
          "base_uri": "https://localhost:8080/"
        },
        "id": "ai3jWmVYniUE",
        "outputId": "55b673dc-e7a6-4f7d-f542-004d5c74b9f9"
      },
      "execution_count": null,
      "outputs": [
        {
          "output_type": "execute_result",
          "data": {
            "text/plain": [
              "22542"
            ]
          },
          "metadata": {},
          "execution_count": 98
        }
      ]
    },
    {
      "cell_type": "code",
      "execution_count": null,
      "metadata": {
        "id": "SycbYw1_wml5"
      },
      "outputs": [],
      "source": [
        "# Define regular expression pattern for matching attribute values\n",
        "pattern = r\"\\[([^\\]]*)\\]\"\n",
        "# Define regular expression pattern for matching attribute names\n",
        "attribute_name_pattern = r\"([a-z_]+)\\[\"\n",
        "movie_pseudo_mrs = []\n",
        "\n",
        "# Open input and output files\n",
        "with open(\"/content/tv_actors_mrs_new.txt\", \"r\") as infile:\n",
        "    # Loop over input file, extracting and processing each line\n",
        "    for line in infile:\n",
        "        # Use regular expression to extract attribute values\n",
        "        matches = re.findall(pattern, line)\n",
        "        # Extract individual attribute values and format them as desired\n",
        "        values = [match.replace(\"_\", \" \").title() if match else \"\" for match in matches]\n",
        "        #print(\"values: \", values)\n",
        "        values = [value.replace('{', '') for value in values]\n",
        "        values = [value.replace('}', '') for value in values]\n",
        "        # If no attribute value is found, extract the attribute name\n",
        "        if not any(values):\n",
        "            attribute_names = re.findall(attribute_name_pattern, line)\n",
        "            values = [name.replace(\"_\", \" \").title() for name in attribute_names]\n",
        "        # Join formatted values into a single string\n",
        "        modified_text = \" \".join(values)\n",
        "        # print(\"modified text: \", modified_text)\n",
        "        # Write modified text to txt file\n",
        "\n",
        "        movie_pseudo_mrs.append(modified_text)"
      ]
    },
    {
      "cell_type": "code",
      "source": [
        "len(movie_pseudo_mrs)"
      ],
      "metadata": {
        "colab": {
          "base_uri": "https://localhost:8080/"
        },
        "id": "5o_Tyke1nl99",
        "outputId": "1ddea250-f1dd-4519-8b6a-f8ab2a45f1be"
      },
      "execution_count": null,
      "outputs": [
        {
          "output_type": "execute_result",
          "data": {
            "text/plain": [
              "4256"
            ]
          },
          "metadata": {},
          "execution_count": 5
        }
      ]
    },
    {
      "cell_type": "code",
      "source": [
        "combined_data = []\n",
        "for index, mr in enumerate(reformatted_MRs):\n",
        "  combined_data.append((mr, das[index], movie_pseudo_mrs[index], \"tv\", \"tv actor\", 1))"
      ],
      "metadata": {
        "id": "I_ZDl9nTobr1"
      },
      "execution_count": null,
      "outputs": []
    },
    {
      "cell_type": "code",
      "source": [
        "len(combined_data)"
      ],
      "metadata": {
        "colab": {
          "base_uri": "https://localhost:8080/"
        },
        "id": "CvHhpUq5nn94",
        "outputId": "20d60e64-b03d-443b-d973-7d143fc0493a"
      },
      "execution_count": null,
      "outputs": [
        {
          "output_type": "execute_result",
          "data": {
            "text/plain": [
              "4256"
            ]
          },
          "metadata": {},
          "execution_count": 6
        }
      ]
    },
    {
      "cell_type": "code",
      "source": [
        "movies_data_df = pd.DataFrame(combined_data, columns=[\"mr\", \"da\", \"test_pseudo_utt\", \"domain\", \"type\", \"n_hops\"])"
      ],
      "metadata": {
        "id": "z_l2e7Wiw3rs"
      },
      "execution_count": null,
      "outputs": []
    },
    {
      "cell_type": "code",
      "source": [],
      "metadata": {
        "id": "QE-rg0d0Ln2S"
      },
      "execution_count": null,
      "outputs": []
    },
    {
      "cell_type": "code",
      "source": [
        "len(movies_data_df)"
      ],
      "metadata": {
        "colab": {
          "base_uri": "https://localhost:8080/"
        },
        "id": "zFCIrbKFnqSf",
        "outputId": "71d4bd9d-f99d-4c5b-8258-0432aa887856"
      },
      "execution_count": null,
      "outputs": [
        {
          "output_type": "execute_result",
          "data": {
            "text/plain": [
              "4256"
            ]
          },
          "metadata": {},
          "execution_count": 74
        }
      ]
    },
    {
      "cell_type": "code",
      "source": [
        "movies_data_df.head()"
      ],
      "metadata": {
        "colab": {
          "base_uri": "https://localhost:8080/",
          "height": 206
        },
        "id": "Vjgavextyiw-",
        "outputId": "e7eed4a6-4036-4dad-d29a-b0bde4cc81ee"
      },
      "execution_count": null,
      "outputs": [
        {
          "output_type": "execute_result",
          "data": {
            "text/plain": [
              "                                                  mr      da  \\\n",
              "0  inform = yes | name = Jodie Comer | height = t...  inform   \n",
              "1  inform = yes | name = Amy Poehler | cast_membe...  inform   \n",
              "2  inform = yes | name = Rashida Jones | place_of...  inform   \n",
              "3  inform = yes | name = Finn Wolfhard | date_of_...  inform   \n",
              "4  inform = yes | name = Josh Dallas | date_of_bi...  inform   \n",
              "\n",
              "                                     test_pseudo_utt domain      type  n_hops  \n",
              "0                            Jodie Comer Taller 1993     tv  tv actor       1  \n",
              "1  Amy Poehler 'The Mighty B!' Female 1971 'Star ...     tv  tv actor       1  \n",
              "2                          Rashida Jones Los Angeles     tv  tv actor       1  \n",
              "3                  Finn Wolfhard 2002 Male Vancouver     tv  tv actor       1  \n",
              "4                   Josh Dallas 1978 Louisville Male     tv  tv actor       1  "
            ],
            "text/html": [
              "\n",
              "\n",
              "  <div id=\"df-c5b047f5-fbec-41a1-bc9f-0d344d1c3d8b\">\n",
              "    <div class=\"colab-df-container\">\n",
              "      <div>\n",
              "<style scoped>\n",
              "    .dataframe tbody tr th:only-of-type {\n",
              "        vertical-align: middle;\n",
              "    }\n",
              "\n",
              "    .dataframe tbody tr th {\n",
              "        vertical-align: top;\n",
              "    }\n",
              "\n",
              "    .dataframe thead th {\n",
              "        text-align: right;\n",
              "    }\n",
              "</style>\n",
              "<table border=\"1\" class=\"dataframe\">\n",
              "  <thead>\n",
              "    <tr style=\"text-align: right;\">\n",
              "      <th></th>\n",
              "      <th>mr</th>\n",
              "      <th>da</th>\n",
              "      <th>test_pseudo_utt</th>\n",
              "      <th>domain</th>\n",
              "      <th>type</th>\n",
              "      <th>n_hops</th>\n",
              "    </tr>\n",
              "  </thead>\n",
              "  <tbody>\n",
              "    <tr>\n",
              "      <th>0</th>\n",
              "      <td>inform = yes | name = Jodie Comer | height = t...</td>\n",
              "      <td>inform</td>\n",
              "      <td>Jodie Comer Taller 1993</td>\n",
              "      <td>tv</td>\n",
              "      <td>tv actor</td>\n",
              "      <td>1</td>\n",
              "    </tr>\n",
              "    <tr>\n",
              "      <th>1</th>\n",
              "      <td>inform = yes | name = Amy Poehler | cast_membe...</td>\n",
              "      <td>inform</td>\n",
              "      <td>Amy Poehler 'The Mighty B!' Female 1971 'Star ...</td>\n",
              "      <td>tv</td>\n",
              "      <td>tv actor</td>\n",
              "      <td>1</td>\n",
              "    </tr>\n",
              "    <tr>\n",
              "      <th>2</th>\n",
              "      <td>inform = yes | name = Rashida Jones | place_of...</td>\n",
              "      <td>inform</td>\n",
              "      <td>Rashida Jones Los Angeles</td>\n",
              "      <td>tv</td>\n",
              "      <td>tv actor</td>\n",
              "      <td>1</td>\n",
              "    </tr>\n",
              "    <tr>\n",
              "      <th>3</th>\n",
              "      <td>inform = yes | name = Finn Wolfhard | date_of_...</td>\n",
              "      <td>inform</td>\n",
              "      <td>Finn Wolfhard 2002 Male Vancouver</td>\n",
              "      <td>tv</td>\n",
              "      <td>tv actor</td>\n",
              "      <td>1</td>\n",
              "    </tr>\n",
              "    <tr>\n",
              "      <th>4</th>\n",
              "      <td>inform = yes | name = Josh Dallas | date_of_bi...</td>\n",
              "      <td>inform</td>\n",
              "      <td>Josh Dallas 1978 Louisville Male</td>\n",
              "      <td>tv</td>\n",
              "      <td>tv actor</td>\n",
              "      <td>1</td>\n",
              "    </tr>\n",
              "  </tbody>\n",
              "</table>\n",
              "</div>\n",
              "      <button class=\"colab-df-convert\" onclick=\"convertToInteractive('df-c5b047f5-fbec-41a1-bc9f-0d344d1c3d8b')\"\n",
              "              title=\"Convert this dataframe to an interactive table.\"\n",
              "              style=\"display:none;\">\n",
              "\n",
              "  <svg xmlns=\"http://www.w3.org/2000/svg\" height=\"24px\"viewBox=\"0 0 24 24\"\n",
              "       width=\"24px\">\n",
              "    <path d=\"M0 0h24v24H0V0z\" fill=\"none\"/>\n",
              "    <path d=\"M18.56 5.44l.94 2.06.94-2.06 2.06-.94-2.06-.94-.94-2.06-.94 2.06-2.06.94zm-11 1L8.5 8.5l.94-2.06 2.06-.94-2.06-.94L8.5 2.5l-.94 2.06-2.06.94zm10 10l.94 2.06.94-2.06 2.06-.94-2.06-.94-.94-2.06-.94 2.06-2.06.94z\"/><path d=\"M17.41 7.96l-1.37-1.37c-.4-.4-.92-.59-1.43-.59-.52 0-1.04.2-1.43.59L10.3 9.45l-7.72 7.72c-.78.78-.78 2.05 0 2.83L4 21.41c.39.39.9.59 1.41.59.51 0 1.02-.2 1.41-.59l7.78-7.78 2.81-2.81c.8-.78.8-2.07 0-2.86zM5.41 20L4 18.59l7.72-7.72 1.47 1.35L5.41 20z\"/>\n",
              "  </svg>\n",
              "      </button>\n",
              "\n",
              "\n",
              "\n",
              "    <div id=\"df-e74a4727-8b80-4a7d-9c7c-b83aed784247\">\n",
              "      <button class=\"colab-df-quickchart\" onclick=\"quickchart('df-e74a4727-8b80-4a7d-9c7c-b83aed784247')\"\n",
              "              title=\"Suggest charts.\"\n",
              "              style=\"display:none;\">\n",
              "\n",
              "<svg xmlns=\"http://www.w3.org/2000/svg\" height=\"24px\"viewBox=\"0 0 24 24\"\n",
              "     width=\"24px\">\n",
              "    <g>\n",
              "        <path d=\"M19 3H5c-1.1 0-2 .9-2 2v14c0 1.1.9 2 2 2h14c1.1 0 2-.9 2-2V5c0-1.1-.9-2-2-2zM9 17H7v-7h2v7zm4 0h-2V7h2v10zm4 0h-2v-4h2v4z\"/>\n",
              "    </g>\n",
              "</svg>\n",
              "      </button>\n",
              "    </div>\n",
              "\n",
              "<style>\n",
              "  .colab-df-quickchart {\n",
              "    background-color: #E8F0FE;\n",
              "    border: none;\n",
              "    border-radius: 50%;\n",
              "    cursor: pointer;\n",
              "    display: none;\n",
              "    fill: #1967D2;\n",
              "    height: 32px;\n",
              "    padding: 0 0 0 0;\n",
              "    width: 32px;\n",
              "  }\n",
              "\n",
              "  .colab-df-quickchart:hover {\n",
              "    background-color: #E2EBFA;\n",
              "    box-shadow: 0px 1px 2px rgba(60, 64, 67, 0.3), 0px 1px 3px 1px rgba(60, 64, 67, 0.15);\n",
              "    fill: #174EA6;\n",
              "  }\n",
              "\n",
              "  [theme=dark] .colab-df-quickchart {\n",
              "    background-color: #3B4455;\n",
              "    fill: #D2E3FC;\n",
              "  }\n",
              "\n",
              "  [theme=dark] .colab-df-quickchart:hover {\n",
              "    background-color: #434B5C;\n",
              "    box-shadow: 0px 1px 3px 1px rgba(0, 0, 0, 0.15);\n",
              "    filter: drop-shadow(0px 1px 2px rgba(0, 0, 0, 0.3));\n",
              "    fill: #FFFFFF;\n",
              "  }\n",
              "</style>\n",
              "\n",
              "    <script>\n",
              "      async function quickchart(key) {\n",
              "        const containerElement = document.querySelector('#' + key);\n",
              "        const charts = await google.colab.kernel.invokeFunction(\n",
              "            'suggestCharts', [key], {});\n",
              "      }\n",
              "    </script>\n",
              "\n",
              "      <script>\n",
              "\n",
              "function displayQuickchartButton(domScope) {\n",
              "  let quickchartButtonEl =\n",
              "    domScope.querySelector('#df-e74a4727-8b80-4a7d-9c7c-b83aed784247 button.colab-df-quickchart');\n",
              "  quickchartButtonEl.style.display =\n",
              "    google.colab.kernel.accessAllowed ? 'block' : 'none';\n",
              "}\n",
              "\n",
              "        displayQuickchartButton(document);\n",
              "      </script>\n",
              "      <style>\n",
              "    .colab-df-container {\n",
              "      display:flex;\n",
              "      flex-wrap:wrap;\n",
              "      gap: 12px;\n",
              "    }\n",
              "\n",
              "    .colab-df-convert {\n",
              "      background-color: #E8F0FE;\n",
              "      border: none;\n",
              "      border-radius: 50%;\n",
              "      cursor: pointer;\n",
              "      display: none;\n",
              "      fill: #1967D2;\n",
              "      height: 32px;\n",
              "      padding: 0 0 0 0;\n",
              "      width: 32px;\n",
              "    }\n",
              "\n",
              "    .colab-df-convert:hover {\n",
              "      background-color: #E2EBFA;\n",
              "      box-shadow: 0px 1px 2px rgba(60, 64, 67, 0.3), 0px 1px 3px 1px rgba(60, 64, 67, 0.15);\n",
              "      fill: #174EA6;\n",
              "    }\n",
              "\n",
              "    [theme=dark] .colab-df-convert {\n",
              "      background-color: #3B4455;\n",
              "      fill: #D2E3FC;\n",
              "    }\n",
              "\n",
              "    [theme=dark] .colab-df-convert:hover {\n",
              "      background-color: #434B5C;\n",
              "      box-shadow: 0px 1px 3px 1px rgba(0, 0, 0, 0.15);\n",
              "      filter: drop-shadow(0px 1px 2px rgba(0, 0, 0, 0.3));\n",
              "      fill: #FFFFFF;\n",
              "    }\n",
              "  </style>\n",
              "\n",
              "      <script>\n",
              "        const buttonEl =\n",
              "          document.querySelector('#df-c5b047f5-fbec-41a1-bc9f-0d344d1c3d8b button.colab-df-convert');\n",
              "        buttonEl.style.display =\n",
              "          google.colab.kernel.accessAllowed ? 'block' : 'none';\n",
              "\n",
              "        async function convertToInteractive(key) {\n",
              "          const element = document.querySelector('#df-c5b047f5-fbec-41a1-bc9f-0d344d1c3d8b');\n",
              "          const dataTable =\n",
              "            await google.colab.kernel.invokeFunction('convertToInteractive',\n",
              "                                                     [key], {});\n",
              "          if (!dataTable) return;\n",
              "\n",
              "          const docLinkHtml = 'Like what you see? Visit the ' +\n",
              "            '<a target=\"_blank\" href=https://colab.research.google.com/notebooks/data_table.ipynb>data table notebook</a>'\n",
              "            + ' to learn more about interactive tables.';\n",
              "          element.innerHTML = '';\n",
              "          dataTable['output_type'] = 'display_data';\n",
              "          await google.colab.output.renderOutput(dataTable, element);\n",
              "          const docLink = document.createElement('div');\n",
              "          docLink.innerHTML = docLinkHtml;\n",
              "          element.appendChild(docLink);\n",
              "        }\n",
              "      </script>\n",
              "    </div>\n",
              "  </div>\n"
            ]
          },
          "metadata": {},
          "execution_count": 75
        }
      ]
    },
    {
      "cell_type": "code",
      "source": [
        "num_triples = []"
      ],
      "metadata": {
        "id": "Se9trtRXlk-I"
      },
      "execution_count": null,
      "outputs": []
    },
    {
      "cell_type": "code",
      "source": [
        "for index, val in enumerate(movies_data_df['mr']):\n",
        "    num_triples.append(val.count(\"|\")-1)"
      ],
      "metadata": {
        "id": "6gxsEKI-kA3R"
      },
      "execution_count": null,
      "outputs": []
    },
    {
      "cell_type": "code",
      "source": [
        "movies_data_df['num_triples'] = num_triples"
      ],
      "metadata": {
        "id": "BY_btlgmlsOM"
      },
      "execution_count": null,
      "outputs": []
    },
    {
      "cell_type": "code",
      "source": [],
      "metadata": {
        "id": "UWDLdCWaEMRl"
      },
      "execution_count": null,
      "outputs": []
    },
    {
      "cell_type": "code",
      "source": [
        "movies_data_df['mr'][0]"
      ],
      "metadata": {
        "colab": {
          "base_uri": "https://localhost:8080/",
          "height": 35
        },
        "id": "TSSotCLgyo1K",
        "outputId": "75c23d18-8815-4972-e16b-5f5bac188aae"
      },
      "execution_count": null,
      "outputs": [
        {
          "output_type": "execute_result",
          "data": {
            "text/plain": [
              "'inform = yes | name = Jodie Comer | height = taller | date_of_birth = 1993 | domain = tv actor'"
            ],
            "application/vnd.google.colaboratory.intrinsic+json": {
              "type": "string"
            }
          },
          "metadata": {},
          "execution_count": 79
        }
      ]
    },
    {
      "cell_type": "code",
      "source": [
        "# wiki_attributes_mapping = {'genres': 'genre',\n",
        "#                            'cast_member': 'cast member',\n",
        "#                            'publication_date': 'publication date',\n",
        "#                            'producer': 'producer',\n",
        "#                            'screenwriter': 'screenwriter',\n",
        "#                            'director': 'director',\n",
        "#                            'character_role': 'character',\n",
        "#                            'rating': 'review score',\n",
        "#                            'MPA_rating': 'MPA film rating',\n",
        "#                            'specifier': 'specifier'\n",
        "#                            }\n",
        "\n",
        "# wiki_attributes_mapping = {'genres': 'genre',\n",
        "#                            'cast_member': 'cast member',\n",
        "#                            'date_of_birth': 'date of birth',\n",
        "#                            'producer': 'producer',\n",
        "#                            'screenwriter': 'screenwriter',\n",
        "#                            'director': 'director',\n",
        "#                            'character_role': 'character',\n",
        "#                            'rating': 'review score',\n",
        "#                            'MPA_rating': 'MPA film rating',\n",
        "#                            'specifier': 'specifier',\n",
        "#                            'awards_received': 'awards received',\n",
        "#                            'creator': 'creator'\n",
        "#                            }\n",
        "\n",
        "wiki_attributes_mapping = {'gender': 'gender',\n",
        "                           'date_of_birth': 'date of birth',\n",
        "                           'cast_member': 'cast member of',\n",
        "                           'spouse': 'spouse',\n",
        "                           'name': 'name',\n",
        "                           'place_of_birth': 'place of birth',\n",
        "                           'height': 'height',\n",
        "                           'rating': 'rating',\n",
        "                           'awards_received': 'awards received'\n",
        "                          }\n",
        "\n",
        "# wiki_attributes_mapping = {\n",
        "#    \"good_with_children\": \"good with children\",\n",
        "#    \"good_with_other_dogs\": \"good with other dogs\",\n",
        "#    \"coat_length\": \"coat length\",\n",
        "#    \"good_with_strangers\": \"good with strangers\",\n",
        "#    \"max_life_expectancy\": \"max life expectancy\",\n",
        "#    \"max_height_male\": \"max height male\",\n",
        "#    \"max_weight_male\": \"max weight male\",\n",
        "#    \"max_height_female\": \"max height female\",\n",
        "#    \"max_weight_female\": \"max weight female\"\n",
        "# }"
      ],
      "metadata": {
        "id": "vRO7yVuv1PGw"
      },
      "execution_count": null,
      "outputs": []
    },
    {
      "cell_type": "code",
      "source": [
        "wikiID_list = []\n",
        "def create_pseudo_mr_new(path):\n",
        "  string = path\n",
        "  # Split the string into key-value pairs\n",
        "  pairs = string.split(\" | \")\n",
        "  pseudo_mr_string = \"\"\n",
        "  request_attr = 0\n",
        "  # print(\"pairs: \", pairs)\n",
        "  name = \"actor\"\n",
        "  for index, pair in enumerate(pairs):\n",
        "      key, value = pair.split(\" = \")\n",
        "      if value == \"yes\":\n",
        "        if key == \"request_attribute\":\n",
        "          print(\"yea\")\n",
        "          request_attr = 1\n",
        "        else:\n",
        "          request_attr = 0\n",
        "        continue\n",
        "      if index == 1 and key == \"name\":\n",
        "        name = value\n",
        "        # mask = wiki_id_df[\"name\"] == value\n",
        "        # filtered_df = wiki_id_df[mask]\n",
        "        # specific_column_value = filtered_df[\"wikiID\"].values[0]\n",
        "        # wikiID_list.append(specific_column_value)\n",
        "        continue\n",
        "      key = wiki_attributes_mapping.get(key, key)\n",
        "      if request_attr == 1:\n",
        "         print(\"in here\")\n",
        "         pseudo_mr_sub = f\"tv actor {key}. \"\n",
        "         req_attr_keys.append(key)\n",
        "         request_attr = 0\n",
        "      elif index == len(pairs)-1:\n",
        "        pseudo_mr_sub = f\"{name} {key} {value}.\"\n",
        "        # print(pseudo_mr_sub)\n",
        "      else:\n",
        "        pseudo_mr_sub = f\"{name} {key} {value}. \"\n",
        "      pseudo_mr_string += pseudo_mr_sub\n",
        "  return pseudo_mr_string"
      ],
      "metadata": {
        "id": "DdeAdNlB0X2Q"
      },
      "execution_count": null,
      "outputs": []
    },
    {
      "cell_type": "code",
      "source": [
        "create_pseudo_mr_new(movies_data_df['mr'][6])"
      ],
      "metadata": {
        "colab": {
          "base_uri": "https://localhost:8080/",
          "height": 53
        },
        "id": "vAZ4-cd_2Zva",
        "outputId": "115e776e-ba16-4090-840c-9912c5b7ab37"
      },
      "execution_count": null,
      "outputs": [
        {
          "output_type": "execute_result",
          "data": {
            "text/plain": [
              "'Ronald Reagan occupation film actor. Ronald Reagan height taller. Ronald Reagan date of birth 1911. Ronald Reagan cast member of Tear down this wall!. Ronald Reagan awards received Order of the White Eagle. Ronald Reagan domain actor.'"
            ],
            "application/vnd.google.colaboratory.intrinsic+json": {
              "type": "string"
            }
          },
          "metadata": {},
          "execution_count": 155
        }
      ]
    },
    {
      "cell_type": "code",
      "source": [
        "movies_data_df[\"pseudo_mr\"] = movies_data_df[\"mr\"].apply(create_pseudo_mr_new)"
      ],
      "metadata": {
        "id": "1ZJ7MAzW18kU",
        "colab": {
          "base_uri": "https://localhost:8080/"
        },
        "outputId": "181a093f-31af-4381-9e3f-635984f66ab1"
      },
      "execution_count": null,
      "outputs": [
        {
          "output_type": "stream",
          "name": "stdout",
          "text": [
            "yea\n",
            "in here\n"
          ]
        }
      ]
    },
    {
      "cell_type": "code",
      "source": [
        "len(movies_data_df)"
      ],
      "metadata": {
        "id": "1CXNyU-tT5jv",
        "outputId": "a1d72a67-8d81-400a-88c6-f6abfc56dc98",
        "colab": {
          "base_uri": "https://localhost:8080/"
        }
      },
      "execution_count": null,
      "outputs": [
        {
          "output_type": "execute_result",
          "data": {
            "text/plain": [
              "4256"
            ]
          },
          "metadata": {},
          "execution_count": 85
        }
      ]
    },
    {
      "cell_type": "code",
      "source": [
        "len(wikiID_list)"
      ],
      "metadata": {
        "id": "vcGhl0i7T8vD",
        "outputId": "45cfe608-e178-4326-d79d-4d1c197da44b",
        "colab": {
          "base_uri": "https://localhost:8080/"
        }
      },
      "execution_count": null,
      "outputs": [
        {
          "output_type": "execute_result",
          "data": {
            "text/plain": [
              "4635"
            ]
          },
          "metadata": {},
          "execution_count": 29
        }
      ]
    },
    {
      "cell_type": "code",
      "source": [
        "movies_data_df['mr'][0]"
      ],
      "metadata": {
        "colab": {
          "base_uri": "https://localhost:8080/",
          "height": 53
        },
        "id": "W7vv_ryrRLru",
        "outputId": "a9815225-25a3-47b1-de85-578fca2d4cdd"
      },
      "execution_count": null,
      "outputs": [
        {
          "output_type": "execute_result",
          "data": {
            "text/plain": [
              "'inform = yes | name = George Hamilton | rating = highly rated | gender = male | place_of_birth = Memphis | height = taller | spouse = Alana Stewart | date_of_birth = 1939 | cast_member = Love at First Bite | domain = actor'"
            ],
            "application/vnd.google.colaboratory.intrinsic+json": {
              "type": "string"
            }
          },
          "metadata": {},
          "execution_count": 70
        }
      ]
    },
    {
      "cell_type": "code",
      "source": [
        "movies_data_df"
      ],
      "metadata": {
        "colab": {
          "base_uri": "https://localhost:8080/",
          "height": 659
        },
        "id": "t9EPjPeT3ZD1",
        "outputId": "95898a7d-c0fc-4c75-d497-64e531b9097a"
      },
      "execution_count": null,
      "outputs": [
        {
          "output_type": "execute_result",
          "data": {
            "text/plain": [
              "                                                     mr                da  \\\n",
              "0     inform = yes | name = Jodie Comer | height = t...            inform   \n",
              "1     inform = yes | name = Amy Poehler | cast_membe...            inform   \n",
              "2     inform = yes | name = Rashida Jones | place_of...            inform   \n",
              "3     inform = yes | name = Finn Wolfhard | date_of_...            inform   \n",
              "4     inform = yes | name = Josh Dallas | date_of_bi...            inform   \n",
              "...                                                 ...               ...   \n",
              "4251  verify_attribute = yes | name = Kristen Bell |...  verify_attribute   \n",
              "4252  verify_attribute = yes | name = Ted Danson | r...  verify_attribute   \n",
              "4253  verify_attribute = yes | name = Justin Hartley...  verify_attribute   \n",
              "4254  verify_attribute = yes | name = Johnny Galecki...  verify_attribute   \n",
              "4255  verify_attribute = yes | name = Billy Bob Thor...  verify_attribute   \n",
              "\n",
              "                                        test_pseudo_utt domain      type  \\\n",
              "0                               Jodie Comer Taller 1993     tv  tv actor   \n",
              "1     Amy Poehler 'The Mighty B!' Female 1971 'Star ...     tv  tv actor   \n",
              "2                             Rashida Jones Los Angeles     tv  tv actor   \n",
              "3                     Finn Wolfhard 2002 Male Vancouver     tv  tv actor   \n",
              "4                      Josh Dallas 1978 Louisville Male     tv  tv actor   \n",
              "...                                                 ...    ...       ...   \n",
              "4251                    Kristen Bell Top Rated 'Frozen'     tv  tv actor   \n",
              "4252                   Ted Danson Top Rated Taller Male     tv  tv actor   \n",
              "4253              Justin Hartley Highly Rated Knoxville     tv  tv actor   \n",
              "4254  Johnny Galecki Top Rated 'The Big Bang Theory'...     tv  tv actor   \n",
              "4255                  Billy Bob Thornton Top Rated Male     tv  tv actor   \n",
              "\n",
              "      n_hops  num_triples                                          pseudo_mr  \n",
              "0          1            3  Jodie Comer height taller. Jodie Comer date of...  \n",
              "1          1            5  Amy Poehler cast member of The Mighty B!. Amy ...  \n",
              "2          1            2  Rashida Jones place of birth Los Angeles. Rash...  \n",
              "3          1            4  Finn Wolfhard date of birth 2002. Finn Wolfhar...  \n",
              "4          1            4  Josh Dallas date of birth 1978. Josh Dallas pl...  \n",
              "...      ...          ...                                                ...  \n",
              "4251       1            3  Kristen Bell rating top rated. Kristen Bell ca...  \n",
              "4252       1            4  Ted Danson rating top rated. Ted Danson height...  \n",
              "4253       1            3  Justin Hartley rating highly rated. Justin Har...  \n",
              "4254       1            4  Johnny Galecki rating top rated. Johnny Galeck...  \n",
              "4255       1            3  Billy Bob Thornton rating top rated. Billy Bob...  \n",
              "\n",
              "[4256 rows x 8 columns]"
            ],
            "text/html": [
              "\n",
              "\n",
              "  <div id=\"df-ac4f1613-c0b3-448b-8eb4-1a5528a5c7d6\">\n",
              "    <div class=\"colab-df-container\">\n",
              "      <div>\n",
              "<style scoped>\n",
              "    .dataframe tbody tr th:only-of-type {\n",
              "        vertical-align: middle;\n",
              "    }\n",
              "\n",
              "    .dataframe tbody tr th {\n",
              "        vertical-align: top;\n",
              "    }\n",
              "\n",
              "    .dataframe thead th {\n",
              "        text-align: right;\n",
              "    }\n",
              "</style>\n",
              "<table border=\"1\" class=\"dataframe\">\n",
              "  <thead>\n",
              "    <tr style=\"text-align: right;\">\n",
              "      <th></th>\n",
              "      <th>mr</th>\n",
              "      <th>da</th>\n",
              "      <th>test_pseudo_utt</th>\n",
              "      <th>domain</th>\n",
              "      <th>type</th>\n",
              "      <th>n_hops</th>\n",
              "      <th>num_triples</th>\n",
              "      <th>pseudo_mr</th>\n",
              "    </tr>\n",
              "  </thead>\n",
              "  <tbody>\n",
              "    <tr>\n",
              "      <th>0</th>\n",
              "      <td>inform = yes | name = Jodie Comer | height = t...</td>\n",
              "      <td>inform</td>\n",
              "      <td>Jodie Comer Taller 1993</td>\n",
              "      <td>tv</td>\n",
              "      <td>tv actor</td>\n",
              "      <td>1</td>\n",
              "      <td>3</td>\n",
              "      <td>Jodie Comer height taller. Jodie Comer date of...</td>\n",
              "    </tr>\n",
              "    <tr>\n",
              "      <th>1</th>\n",
              "      <td>inform = yes | name = Amy Poehler | cast_membe...</td>\n",
              "      <td>inform</td>\n",
              "      <td>Amy Poehler 'The Mighty B!' Female 1971 'Star ...</td>\n",
              "      <td>tv</td>\n",
              "      <td>tv actor</td>\n",
              "      <td>1</td>\n",
              "      <td>5</td>\n",
              "      <td>Amy Poehler cast member of The Mighty B!. Amy ...</td>\n",
              "    </tr>\n",
              "    <tr>\n",
              "      <th>2</th>\n",
              "      <td>inform = yes | name = Rashida Jones | place_of...</td>\n",
              "      <td>inform</td>\n",
              "      <td>Rashida Jones Los Angeles</td>\n",
              "      <td>tv</td>\n",
              "      <td>tv actor</td>\n",
              "      <td>1</td>\n",
              "      <td>2</td>\n",
              "      <td>Rashida Jones place of birth Los Angeles. Rash...</td>\n",
              "    </tr>\n",
              "    <tr>\n",
              "      <th>3</th>\n",
              "      <td>inform = yes | name = Finn Wolfhard | date_of_...</td>\n",
              "      <td>inform</td>\n",
              "      <td>Finn Wolfhard 2002 Male Vancouver</td>\n",
              "      <td>tv</td>\n",
              "      <td>tv actor</td>\n",
              "      <td>1</td>\n",
              "      <td>4</td>\n",
              "      <td>Finn Wolfhard date of birth 2002. Finn Wolfhar...</td>\n",
              "    </tr>\n",
              "    <tr>\n",
              "      <th>4</th>\n",
              "      <td>inform = yes | name = Josh Dallas | date_of_bi...</td>\n",
              "      <td>inform</td>\n",
              "      <td>Josh Dallas 1978 Louisville Male</td>\n",
              "      <td>tv</td>\n",
              "      <td>tv actor</td>\n",
              "      <td>1</td>\n",
              "      <td>4</td>\n",
              "      <td>Josh Dallas date of birth 1978. Josh Dallas pl...</td>\n",
              "    </tr>\n",
              "    <tr>\n",
              "      <th>...</th>\n",
              "      <td>...</td>\n",
              "      <td>...</td>\n",
              "      <td>...</td>\n",
              "      <td>...</td>\n",
              "      <td>...</td>\n",
              "      <td>...</td>\n",
              "      <td>...</td>\n",
              "      <td>...</td>\n",
              "    </tr>\n",
              "    <tr>\n",
              "      <th>4251</th>\n",
              "      <td>verify_attribute = yes | name = Kristen Bell |...</td>\n",
              "      <td>verify_attribute</td>\n",
              "      <td>Kristen Bell Top Rated 'Frozen'</td>\n",
              "      <td>tv</td>\n",
              "      <td>tv actor</td>\n",
              "      <td>1</td>\n",
              "      <td>3</td>\n",
              "      <td>Kristen Bell rating top rated. Kristen Bell ca...</td>\n",
              "    </tr>\n",
              "    <tr>\n",
              "      <th>4252</th>\n",
              "      <td>verify_attribute = yes | name = Ted Danson | r...</td>\n",
              "      <td>verify_attribute</td>\n",
              "      <td>Ted Danson Top Rated Taller Male</td>\n",
              "      <td>tv</td>\n",
              "      <td>tv actor</td>\n",
              "      <td>1</td>\n",
              "      <td>4</td>\n",
              "      <td>Ted Danson rating top rated. Ted Danson height...</td>\n",
              "    </tr>\n",
              "    <tr>\n",
              "      <th>4253</th>\n",
              "      <td>verify_attribute = yes | name = Justin Hartley...</td>\n",
              "      <td>verify_attribute</td>\n",
              "      <td>Justin Hartley Highly Rated Knoxville</td>\n",
              "      <td>tv</td>\n",
              "      <td>tv actor</td>\n",
              "      <td>1</td>\n",
              "      <td>3</td>\n",
              "      <td>Justin Hartley rating highly rated. Justin Har...</td>\n",
              "    </tr>\n",
              "    <tr>\n",
              "      <th>4254</th>\n",
              "      <td>verify_attribute = yes | name = Johnny Galecki...</td>\n",
              "      <td>verify_attribute</td>\n",
              "      <td>Johnny Galecki Top Rated 'The Big Bang Theory'...</td>\n",
              "      <td>tv</td>\n",
              "      <td>tv actor</td>\n",
              "      <td>1</td>\n",
              "      <td>4</td>\n",
              "      <td>Johnny Galecki rating top rated. Johnny Galeck...</td>\n",
              "    </tr>\n",
              "    <tr>\n",
              "      <th>4255</th>\n",
              "      <td>verify_attribute = yes | name = Billy Bob Thor...</td>\n",
              "      <td>verify_attribute</td>\n",
              "      <td>Billy Bob Thornton Top Rated Male</td>\n",
              "      <td>tv</td>\n",
              "      <td>tv actor</td>\n",
              "      <td>1</td>\n",
              "      <td>3</td>\n",
              "      <td>Billy Bob Thornton rating top rated. Billy Bob...</td>\n",
              "    </tr>\n",
              "  </tbody>\n",
              "</table>\n",
              "<p>4256 rows × 8 columns</p>\n",
              "</div>\n",
              "      <button class=\"colab-df-convert\" onclick=\"convertToInteractive('df-ac4f1613-c0b3-448b-8eb4-1a5528a5c7d6')\"\n",
              "              title=\"Convert this dataframe to an interactive table.\"\n",
              "              style=\"display:none;\">\n",
              "\n",
              "  <svg xmlns=\"http://www.w3.org/2000/svg\" height=\"24px\"viewBox=\"0 0 24 24\"\n",
              "       width=\"24px\">\n",
              "    <path d=\"M0 0h24v24H0V0z\" fill=\"none\"/>\n",
              "    <path d=\"M18.56 5.44l.94 2.06.94-2.06 2.06-.94-2.06-.94-.94-2.06-.94 2.06-2.06.94zm-11 1L8.5 8.5l.94-2.06 2.06-.94-2.06-.94L8.5 2.5l-.94 2.06-2.06.94zm10 10l.94 2.06.94-2.06 2.06-.94-2.06-.94-.94-2.06-.94 2.06-2.06.94z\"/><path d=\"M17.41 7.96l-1.37-1.37c-.4-.4-.92-.59-1.43-.59-.52 0-1.04.2-1.43.59L10.3 9.45l-7.72 7.72c-.78.78-.78 2.05 0 2.83L4 21.41c.39.39.9.59 1.41.59.51 0 1.02-.2 1.41-.59l7.78-7.78 2.81-2.81c.8-.78.8-2.07 0-2.86zM5.41 20L4 18.59l7.72-7.72 1.47 1.35L5.41 20z\"/>\n",
              "  </svg>\n",
              "      </button>\n",
              "\n",
              "\n",
              "\n",
              "    <div id=\"df-33a8c27c-e6a6-4418-b4a3-b5c3bc5566b9\">\n",
              "      <button class=\"colab-df-quickchart\" onclick=\"quickchart('df-33a8c27c-e6a6-4418-b4a3-b5c3bc5566b9')\"\n",
              "              title=\"Suggest charts.\"\n",
              "              style=\"display:none;\">\n",
              "\n",
              "<svg xmlns=\"http://www.w3.org/2000/svg\" height=\"24px\"viewBox=\"0 0 24 24\"\n",
              "     width=\"24px\">\n",
              "    <g>\n",
              "        <path d=\"M19 3H5c-1.1 0-2 .9-2 2v14c0 1.1.9 2 2 2h14c1.1 0 2-.9 2-2V5c0-1.1-.9-2-2-2zM9 17H7v-7h2v7zm4 0h-2V7h2v10zm4 0h-2v-4h2v4z\"/>\n",
              "    </g>\n",
              "</svg>\n",
              "      </button>\n",
              "    </div>\n",
              "\n",
              "<style>\n",
              "  .colab-df-quickchart {\n",
              "    background-color: #E8F0FE;\n",
              "    border: none;\n",
              "    border-radius: 50%;\n",
              "    cursor: pointer;\n",
              "    display: none;\n",
              "    fill: #1967D2;\n",
              "    height: 32px;\n",
              "    padding: 0 0 0 0;\n",
              "    width: 32px;\n",
              "  }\n",
              "\n",
              "  .colab-df-quickchart:hover {\n",
              "    background-color: #E2EBFA;\n",
              "    box-shadow: 0px 1px 2px rgba(60, 64, 67, 0.3), 0px 1px 3px 1px rgba(60, 64, 67, 0.15);\n",
              "    fill: #174EA6;\n",
              "  }\n",
              "\n",
              "  [theme=dark] .colab-df-quickchart {\n",
              "    background-color: #3B4455;\n",
              "    fill: #D2E3FC;\n",
              "  }\n",
              "\n",
              "  [theme=dark] .colab-df-quickchart:hover {\n",
              "    background-color: #434B5C;\n",
              "    box-shadow: 0px 1px 3px 1px rgba(0, 0, 0, 0.15);\n",
              "    filter: drop-shadow(0px 1px 2px rgba(0, 0, 0, 0.3));\n",
              "    fill: #FFFFFF;\n",
              "  }\n",
              "</style>\n",
              "\n",
              "    <script>\n",
              "      async function quickchart(key) {\n",
              "        const containerElement = document.querySelector('#' + key);\n",
              "        const charts = await google.colab.kernel.invokeFunction(\n",
              "            'suggestCharts', [key], {});\n",
              "      }\n",
              "    </script>\n",
              "\n",
              "      <script>\n",
              "\n",
              "function displayQuickchartButton(domScope) {\n",
              "  let quickchartButtonEl =\n",
              "    domScope.querySelector('#df-33a8c27c-e6a6-4418-b4a3-b5c3bc5566b9 button.colab-df-quickchart');\n",
              "  quickchartButtonEl.style.display =\n",
              "    google.colab.kernel.accessAllowed ? 'block' : 'none';\n",
              "}\n",
              "\n",
              "        displayQuickchartButton(document);\n",
              "      </script>\n",
              "      <style>\n",
              "    .colab-df-container {\n",
              "      display:flex;\n",
              "      flex-wrap:wrap;\n",
              "      gap: 12px;\n",
              "    }\n",
              "\n",
              "    .colab-df-convert {\n",
              "      background-color: #E8F0FE;\n",
              "      border: none;\n",
              "      border-radius: 50%;\n",
              "      cursor: pointer;\n",
              "      display: none;\n",
              "      fill: #1967D2;\n",
              "      height: 32px;\n",
              "      padding: 0 0 0 0;\n",
              "      width: 32px;\n",
              "    }\n",
              "\n",
              "    .colab-df-convert:hover {\n",
              "      background-color: #E2EBFA;\n",
              "      box-shadow: 0px 1px 2px rgba(60, 64, 67, 0.3), 0px 1px 3px 1px rgba(60, 64, 67, 0.15);\n",
              "      fill: #174EA6;\n",
              "    }\n",
              "\n",
              "    [theme=dark] .colab-df-convert {\n",
              "      background-color: #3B4455;\n",
              "      fill: #D2E3FC;\n",
              "    }\n",
              "\n",
              "    [theme=dark] .colab-df-convert:hover {\n",
              "      background-color: #434B5C;\n",
              "      box-shadow: 0px 1px 3px 1px rgba(0, 0, 0, 0.15);\n",
              "      filter: drop-shadow(0px 1px 2px rgba(0, 0, 0, 0.3));\n",
              "      fill: #FFFFFF;\n",
              "    }\n",
              "  </style>\n",
              "\n",
              "      <script>\n",
              "        const buttonEl =\n",
              "          document.querySelector('#df-ac4f1613-c0b3-448b-8eb4-1a5528a5c7d6 button.colab-df-convert');\n",
              "        buttonEl.style.display =\n",
              "          google.colab.kernel.accessAllowed ? 'block' : 'none';\n",
              "\n",
              "        async function convertToInteractive(key) {\n",
              "          const element = document.querySelector('#df-ac4f1613-c0b3-448b-8eb4-1a5528a5c7d6');\n",
              "          const dataTable =\n",
              "            await google.colab.kernel.invokeFunction('convertToInteractive',\n",
              "                                                     [key], {});\n",
              "          if (!dataTable) return;\n",
              "\n",
              "          const docLinkHtml = 'Like what you see? Visit the ' +\n",
              "            '<a target=\"_blank\" href=https://colab.research.google.com/notebooks/data_table.ipynb>data table notebook</a>'\n",
              "            + ' to learn more about interactive tables.';\n",
              "          element.innerHTML = '';\n",
              "          dataTable['output_type'] = 'display_data';\n",
              "          await google.colab.output.renderOutput(dataTable, element);\n",
              "          const docLink = document.createElement('div');\n",
              "          docLink.innerHTML = docLinkHtml;\n",
              "          element.appendChild(docLink);\n",
              "        }\n",
              "      </script>\n",
              "    </div>\n",
              "  </div>\n"
            ]
          },
          "metadata": {},
          "execution_count": 15
        }
      ]
    },
    {
      "cell_type": "code",
      "source": [
        "movies_data_df.to_csv(\"tv_actor_data_for_generation_one_hop.csv\")"
      ],
      "metadata": {
        "id": "ImPG96w43KYc"
      },
      "execution_count": null,
      "outputs": []
    }
  ]
}